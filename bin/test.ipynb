{
 "cells": [
  {
   "cell_type": "code",
   "execution_count": 1,
   "source": [
    "import json\n",
    "import pandas as pd\n",
    "import os\n",
    "from common import call_api, Season\n",
    "from param import PARENT_DIRECTORY"
   ],
   "outputs": [],
   "metadata": {}
  },
  {
   "cell_type": "code",
   "execution_count": 2,
   "source": [
    "for season_id in [2785, 3057, 5667, 5668, 5729]:\n",
    "    season = Season(season_id)\n",
    "    pd.DataFrame.from_dict(call_api(\"league-matches\", {\"season_id\": season_id})[\"data\"]).to_csv(os.path.join(PARENT_DIRECTORY, \"excel/matches\", season.json_path.replace(\".json\", \".csv\")))"
   ],
   "outputs": [],
   "metadata": {}
  },
  {
   "cell_type": "code",
   "execution_count": 3,
   "source": [
    "for file in [\"league-strength\", \"team-factors-latest\"]:\n",
    "    with open(os.path.join(PARENT_DIRECTORY, f\"data/clubs/{file}.json\"), \"r\") as f:\n",
    "        data = json.load(f)\n",
    "    pd.DataFrame.from_dict(data, orient=\"index\").to_csv(os.path.join(PARENT_DIRECTORY, \"excel/inter-league\", f\"{file}.csv\"))"
   ],
   "outputs": [],
   "metadata": {}
  },
  {
   "cell_type": "code",
   "execution_count": 5,
   "source": [
    "with open(os.path.join(PARENT_DIRECTORY, \"data/season\", \"5729-cn-china-league-one-2021.json\"), \"r\") as f:\n",
    "    factors = json.load(f)\n",
    "df = pd.DataFrame.from_dict(factors, orient=\"index\")\n",
    "other_factors = df.loc[df.index.isin([\"average_goal\", \"home_advantage\"])].rename(columns={0: \"offence\"})\n",
    "team_factors = pd.DataFrame.from_dict(factors[\"team\"], orient=\"index\")\n",
    "output = other_factors.append(team_factors)\n",
    "output.to_csv(os.path.join(PARENT_DIRECTORY, \"excel/solver\", \"5729-cn-china-league-one-2021.csv\"))"
   ],
   "outputs": [],
   "metadata": {}
  },
  {
   "cell_type": "code",
   "execution_count": null,
   "source": [],
   "outputs": [],
   "metadata": {}
  }
 ],
 "metadata": {
  "orig_nbformat": 4,
  "language_info": {
   "name": "python",
   "version": "3.8.10",
   "mimetype": "text/x-python",
   "codemirror_mode": {
    "name": "ipython",
    "version": 3
   },
   "pygments_lexer": "ipython3",
   "nbconvert_exporter": "python",
   "file_extension": ".py"
  },
  "kernelspec": {
   "name": "python3",
   "display_name": "Python 3.8.10 64-bit"
  },
  "interpreter": {
   "hash": "aee8b7b246df8f9039afb4144a1f6fd8d2ca17a180786b69acc140d282b71a49"
  }
 },
 "nbformat": 4,
 "nbformat_minor": 2
}